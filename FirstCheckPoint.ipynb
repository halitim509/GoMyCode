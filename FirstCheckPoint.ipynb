{
 "cells": [
  {
   "cell_type": "markdown",
   "id": "383dabf9",
   "metadata": {},
   "source": [
    "# First check point:"
   ]
  },
  {
   "cell_type": "code",
   "execution_count": 2,
   "id": "fd3e50e8",
   "metadata": {},
   "outputs": [
    {
     "name": "stdout",
     "output_type": "stream",
     "text": [
      "Welcome to python world! Let's start coding\n"
     ]
    }
   ],
   "source": [
    "print(\"Welcome to python world! Let's start coding\")"
   ]
  },
  {
   "cell_type": "markdown",
   "id": "e4370b0d",
   "metadata": {},
   "source": [
    "# extension\n",
    "text.ipynb"
   ]
  }
 ],
 "metadata": {
  "kernelspec": {
   "display_name": "Python 3 (ipykernel)",
   "language": "python",
   "name": "python3"
  },
  "language_info": {
   "codemirror_mode": {
    "name": "ipython",
    "version": 3
   },
   "file_extension": ".py",
   "mimetype": "text/x-python",
   "name": "python",
   "nbconvert_exporter": "python",
   "pygments_lexer": "ipython3",
   "version": "3.9.7"
  }
 },
 "nbformat": 4,
 "nbformat_minor": 5
}
